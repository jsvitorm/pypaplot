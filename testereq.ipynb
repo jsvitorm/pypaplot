{
  "nbformat": 4,
  "nbformat_minor": 0,
  "metadata": {
    "colab": {
      "provenance": []
    },
    "kernelspec": {
      "name": "python3",
      "display_name": "Python 3"
    },
    "language_info": {
      "name": "python"
    }
  },
  "cells": [
    {
      "cell_type": "code",
      "source": [
        "import requests\n",
        "import json\n",
        "import sqlite3\n"
      ],
      "metadata": {
        "id": "pbdSzkdDrTfU"
      },
      "execution_count": null,
      "outputs": []
    },
    {
      "cell_type": "code",
      "source": [
        "link = \"https://testereq-f333a-default-rtdb.firebaseio.com/.json\"\n",
        "a = requests.get(link)\n"
      ],
      "metadata": {
        "id": "q5qhUwr9r5ir"
      },
      "execution_count": null,
      "outputs": []
    },
    {
      "cell_type": "code",
      "source": [
        "print(a)\n",
        "print(a.json())"
      ],
      "metadata": {
        "colab": {
          "base_uri": "https://localhost:8080/"
        },
        "id": "-8CaDsXprxYl",
        "outputId": "fecc633b-0639-4f61-8c66-e520c0c8844a"
      },
      "execution_count": null,
      "outputs": [
        {
          "output_type": "stream",
          "name": "stdout",
          "text": [
            "<Response [200]>\n",
            "{'1': {'estuda': True, 'idade': 20, 'nome': 'jose'}, '2': {'estuda': False, 'idade': 23, 'nome': 'kleverson'}, '-O-RtZ7fu6oBmsDg5SaY': {'estuda': True, 'idade': 19, 'nome': 'Guilherme'}}\n"
          ]
        }
      ]
    },
    {
      "cell_type": "code",
      "source": [
        "info = {\"estuda\":True,\"idade\":19,\"nome\":\"Guilherme\"}\n",
        "\n",
        "#query = \"INSERT INTO \"\n",
        "\n",
        "#bpost = requests.post(link, data = json.dumps(info))\n",
        "\n",
        "\n",
        "#print(bpost)\n",
        "#print(bpost.json())"
      ],
      "metadata": {
        "id": "csV5ovK74Jd0"
      },
      "execution_count": null,
      "outputs": []
    },
    {
      "cell_type": "code",
      "source": [
        "conn = sqlite3.connect('testereq.db')\n",
        "c = conn.cursor()\n",
        "\n",
        "c.execute('''CREATE TABLE IF NOT EXISTS \"testandotabela\" (\n",
        "\t\"id\"\tINTEGER NOT NULL,\n",
        "\t\"nome\"\tTEXT,\n",
        "\t\"idade\"\tNUMERIC,\n",
        "\t\"estuda\"\tINTEGER,\n",
        "\tPRIMARY KEY(\"id\")\n",
        ");''')\n",
        "\n"
      ],
      "metadata": {
        "colab": {
          "base_uri": "https://localhost:8080/"
        },
        "id": "ocwK4si4rECp",
        "outputId": "c1449188-5ff0-429d-c09a-62b080f1ae64"
      },
      "execution_count": null,
      "outputs": [
        {
          "output_type": "execute_result",
          "data": {
            "text/plain": [
              "<sqlite3.Cursor at 0x7fd96c273f40>"
            ]
          },
          "metadata": {},
          "execution_count": 5
        }
      ]
    },
    {
      "cell_type": "code",
      "source": [
        "c.execute(\"INSERT INTO testandotabela (nome, idade, estuda) VALUES (?, ?, ?)\",(info['nome'], info['idade'], info['estuda']))"
      ],
      "metadata": {
        "colab": {
          "base_uri": "https://localhost:8080/"
        },
        "id": "16NJPt3Nrtr5",
        "outputId": "e8c5341a-737c-444d-c917-0db62ef01843"
      },
      "execution_count": null,
      "outputs": [
        {
          "output_type": "execute_result",
          "data": {
            "text/plain": [
              "<sqlite3.Cursor at 0x7fd96c273f40>"
            ]
          },
          "metadata": {},
          "execution_count": 6
        }
      ]
    },
    {
      "cell_type": "code",
      "source": [
        "conn.commit()\n",
        "\n",
        "# Fechar a conexão com o banco de dados\n"
      ],
      "metadata": {
        "id": "19pALuF_tTnp"
      },
      "execution_count": null,
      "outputs": []
    },
    {
      "cell_type": "code",
      "source": [
        "c = conn.cursor()\n",
        "\n",
        "a = c.execute(\"SELECT * from testandotabela\")"
      ],
      "metadata": {
        "id": "2ufWTqFLuLNx"
      },
      "execution_count": null,
      "outputs": []
    },
    {
      "cell_type": "code",
      "source": [
        "print(a.fetchall())"
      ],
      "metadata": {
        "colab": {
          "base_uri": "https://localhost:8080/"
        },
        "id": "QUaS9eIiuh2S",
        "outputId": "f89bc179-3fa6-4f7e-d075-1f49c9f3dbd2"
      },
      "execution_count": null,
      "outputs": [
        {
          "output_type": "stream",
          "name": "stdout",
          "text": [
            "[(1, 'Guilherme', 19, 1), (2, 'Guilherme', 19, 1), (3, 'Guilherme', 19, 1)]\n"
          ]
        }
      ]
    },
    {
      "cell_type": "code",
      "source": [
        "nome = input(\"Digite seu nome: \")\n",
        "idade = int(input(\"Digite sua idade: \"))\n",
        "estuda = input(\"Você está estudando? (S1/N0): \")\n",
        "\n",
        "post_data = {\n",
        "    'nome': nome,\n",
        "    'idade': idade,\n",
        "    'estuda': estuda\n",
        "}\n",
        "\n",
        "c.execute(\"INSERT INTO testandotabela (nome, idade, estuda) VALUES (?, ?, ?)\",\n",
        "          (nome, idade, estuda))\n",
        "\n",
        "conn.commit()\n",
        "\n",
        "a = c.execute(\"SELECT * from testandotabela\")\n",
        "\n",
        "print(a.fetchall())\n",
        "\n",
        "conn.close()\n"
      ],
      "metadata": {
        "colab": {
          "base_uri": "https://localhost:8080/"
        },
        "id": "5PqvXaqwvf6a",
        "outputId": "6038a8a7-1786-49cc-a34c-34d141b9a735"
      },
      "execution_count": null,
      "outputs": [
        {
          "output_type": "stream",
          "name": "stdout",
          "text": [
            "Digite seu nome: jose\n",
            "Digite sua idade: 12\n",
            "Você está estudando? (S1/N0): 1\n",
            "[(1, 'Guilherme', 19, 1), (2, 'Guilherme', 19, 1), (3, 'Guilherme', 19, 1), (4, 'jose', 12, 1)]\n"
          ]
        }
      ]
    },
    {
      "cell_type": "code",
      "source": [
        "a = requests.get(\"https://testereq-f333a-default-rtdb.firebaseio.com/.json\")\n",
        "print(a.json())"
      ],
      "metadata": {
        "colab": {
          "base_uri": "https://localhost:8080/"
        },
        "id": "cs8LfOqSv4zh",
        "outputId": "edc9e83c-0088-4464-b594-e27458ffa939"
      },
      "execution_count": null,
      "outputs": [
        {
          "output_type": "stream",
          "name": "stdout",
          "text": [
            "{'1': {'estuda': True, 'idade': 20, 'nome': 'jose'}, '2': {'estuda': False, 'idade': 23, 'nome': 'kleverson'}, '-O-RtZ7fu6oBmsDg5SaY': {'estuda': True, 'idade': 19, 'nome': 'Guilherme'}}\n"
          ]
        }
      ]
    },
    {
      "cell_type": "code",
      "source": [],
      "metadata": {
        "id": "FkEQp9_Fvps5"
      },
      "execution_count": null,
      "outputs": []
    }
  ]
}